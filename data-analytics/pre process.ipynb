{
  "cells": [
    {
      "cell_type": "code",
      "metadata": {
        "id": "UukfGRO67ukq",
        "colab": {
          "base_uri": "https://localhost:8080/"
        },
        "outputId": "29909906-35b1-4450-cbeb-60fedb1aa9c1",
        "cell_id": "00000-7b8bcb5e-affd-482c-82e3-7d653af32bc4",
        "output_cleared": true,
        "source_hash": null,
        "deepnote_cell_type": "code"
      },
      "source": "# first upload the data.zip\n!unzip data.zip &>/dev/null",
      "execution_count": null,
      "outputs": []
    },
    {
      "cell_type": "code",
      "metadata": {
        "id": "-KgLIJsMiNbR",
        "colab": {
          "base_uri": "https://localhost:8080/"
        },
        "outputId": "a80d70b7-05b9-4b24-f39c-ccb999bb9877",
        "cell_id": "00001-b58af841-1151-401c-bf1f-9dd395260d70",
        "deepnote_to_be_reexecuted": false,
        "source_hash": "ac9ec81c",
        "execution_start": 1613447682111,
        "execution_millis": 944,
        "deepnote_cell_type": "code"
      },
      "source": "# download champion json from riot game website\n!wget http://ddragon.leagueoflegends.com/cdn/11.1.1/data/en_US/champion.json -O champion.json\n\n# load champion.json that just got downloaded\nimport json\n\nid_to_champion = {'0':'None'}\nwith open('champion.json', \"r\", encoding='utf-8') as f:\n    js = json.load(f)\n    for champ_name in js['data']:\n        id_to_champion[js['data'][champ_name]['key']] = champ_name\n    f.close()\n\nwith open('key-to-champ.json', 'w', encoding='utf-8') as f:\n    json.dump(id_to_champion, f, ensure_ascii=False, indent=4)\n    f.close()\n\nfor k,v in id_to_champion.items():\n    print('{}: \"{}\", '.format(k,v))",
      "execution_count": null,
      "outputs": [
        {
          "name": "stdout",
          "text": "--2021-02-16 03:54:42--  http://ddragon.leagueoflegends.com/cdn/11.1.1/data/en_US/champion.json\nResolving ddragon.leagueoflegends.com (ddragon.leagueoflegends.com)... 52.85.147.67\nConnecting to ddragon.leagueoflegends.com (ddragon.leagueoflegends.com)|52.85.147.67|:80... connected.\nHTTP request sent, awaiting response... 200 OK\nLength: 140718 (137K) [application/json]\nSaving to: ‘champion.json’\n\nchampion.json       100%[===================>] 137.42K  --.-KB/s    in 0.001s  \n\n2021-02-16 03:54:42 (99.8 MB/s) - ‘champion.json’ saved [140718/140718]\n\n0: \"None\", \n266: \"Aatrox\", \n103: \"Ahri\", \n84: \"Akali\", \n12: \"Alistar\", \n32: \"Amumu\", \n34: \"Anivia\", \n1: \"Annie\", \n523: \"Aphelios\", \n22: \"Ashe\", \n136: \"AurelionSol\", \n268: \"Azir\", \n432: \"Bard\", \n53: \"Blitzcrank\", \n63: \"Brand\", \n201: \"Braum\", \n51: \"Caitlyn\", \n164: \"Camille\", \n69: \"Cassiopeia\", \n31: \"Chogath\", \n42: \"Corki\", \n122: \"Darius\", \n131: \"Diana\", \n119: \"Draven\", \n36: \"DrMundo\", \n245: \"Ekko\", \n60: \"Elise\", \n28: \"Evelynn\", \n81: \"Ezreal\", \n9: \"Fiddlesticks\", \n114: \"Fiora\", \n105: \"Fizz\", \n3: \"Galio\", \n41: \"Gangplank\", \n86: \"Garen\", \n150: \"Gnar\", \n79: \"Gragas\", \n104: \"Graves\", \n120: \"Hecarim\", \n74: \"Heimerdinger\", \n420: \"Illaoi\", \n39: \"Irelia\", \n427: \"Ivern\", \n40: \"Janna\", \n59: \"JarvanIV\", \n24: \"Jax\", \n126: \"Jayce\", \n202: \"Jhin\", \n222: \"Jinx\", \n145: \"Kaisa\", \n429: \"Kalista\", \n43: \"Karma\", \n30: \"Karthus\", \n38: \"Kassadin\", \n55: \"Katarina\", \n10: \"Kayle\", \n141: \"Kayn\", \n85: \"Kennen\", \n121: \"Khazix\", \n203: \"Kindred\", \n240: \"Kled\", \n96: \"KogMaw\", \n7: \"Leblanc\", \n64: \"LeeSin\", \n89: \"Leona\", \n876: \"Lillia\", \n127: \"Lissandra\", \n236: \"Lucian\", \n117: \"Lulu\", \n99: \"Lux\", \n54: \"Malphite\", \n90: \"Malzahar\", \n57: \"Maokai\", \n11: \"MasterYi\", \n21: \"MissFortune\", \n62: \"MonkeyKing\", \n82: \"Mordekaiser\", \n25: \"Morgana\", \n267: \"Nami\", \n75: \"Nasus\", \n111: \"Nautilus\", \n518: \"Neeko\", \n76: \"Nidalee\", \n56: \"Nocturne\", \n20: \"Nunu\", \n2: \"Olaf\", \n61: \"Orianna\", \n516: \"Ornn\", \n80: \"Pantheon\", \n78: \"Poppy\", \n555: \"Pyke\", \n246: \"Qiyana\", \n133: \"Quinn\", \n497: \"Rakan\", \n33: \"Rammus\", \n421: \"RekSai\", \n526: \"Rell\", \n58: \"Renekton\", \n107: \"Rengar\", \n92: \"Riven\", \n68: \"Rumble\", \n13: \"Ryze\", \n360: \"Samira\", \n113: \"Sejuani\", \n235: \"Senna\", \n147: \"Seraphine\", \n875: \"Sett\", \n35: \"Shaco\", \n98: \"Shen\", \n102: \"Shyvana\", \n27: \"Singed\", \n14: \"Sion\", \n15: \"Sivir\", \n72: \"Skarner\", \n37: \"Sona\", \n16: \"Soraka\", \n50: \"Swain\", \n517: \"Sylas\", \n134: \"Syndra\", \n223: \"TahmKench\", \n163: \"Taliyah\", \n91: \"Talon\", \n44: \"Taric\", \n17: \"Teemo\", \n412: \"Thresh\", \n18: \"Tristana\", \n48: \"Trundle\", \n23: \"Tryndamere\", \n4: \"TwistedFate\", \n29: \"Twitch\", \n77: \"Udyr\", \n6: \"Urgot\", \n110: \"Varus\", \n67: \"Vayne\", \n45: \"Veigar\", \n161: \"Velkoz\", \n254: \"Vi\", \n112: \"Viktor\", \n8: \"Vladimir\", \n106: \"Volibear\", \n19: \"Warwick\", \n498: \"Xayah\", \n101: \"Xerath\", \n5: \"XinZhao\", \n157: \"Yasuo\", \n777: \"Yone\", \n83: \"Yorick\", \n350: \"Yuumi\", \n154: \"Zac\", \n238: \"Zed\", \n115: \"Ziggs\", \n26: \"Zilean\", \n142: \"Zoe\", \n143: \"Zyra\", \n",
          "output_type": "stream"
        }
      ]
    },
    {
      "cell_type": "code",
      "metadata": {
        "id": "1jQA66p979YK",
        "cell_id": "00002-b89ab2ca-1328-4dfa-a1e6-c3b1f8485361",
        "deepnote_cell_type": "code"
      },
      "source": "# sort file by elo\nimport os\nimport shutil\n\nfor f in os.listdir(\"data\"):\n    folder_name = f.split(\"-\")[-1][:-4]\n    if not os.path.exists(folder_name):\n        os.mkdir(folder_name)\n        shutil.copy(os.path.join('data', f), folder_name)\n    else:\n        shutil.copy(os.path.join('data', f), folder_name)",
      "execution_count": null,
      "outputs": []
    },
    {
      "cell_type": "markdown",
      "source": "Our labels are flipped in the match data pipeline. We will not correct this mistake in the pipeline as we will need to redo all the csv.\n\n\nCurrently the label looks like: \n```\nGAME_ID\tRedBan1\tRedBan2\tRedBan3\tRedBan4\tRedBan5\tRedTop\tRedJg\tRedMid\tRedAdc\tRedSup\tBlueBan1\tBlueBan2\tBlueBan3\tBlueBan4\tBlueBan5\tBlueTop\tBlueJg\tBlueMid\tBlueAdc\tBlueSup\tredTeamWin\n```\n\nHowever, it should read like:\n```\nGAME_ID\tRedTop\tRedJg\tRedMid\tRedAdc\tRedSup\tRedBan1\tRedBan2\tRedBan3\tRedBan4\tRedBan5\tBlueTop\tBlueJg\tBlueMid\tBlueAdc\tBlueSup\tBlueBan1\tBlueBan2\tBlueBan3\tBlueBan4\tBlueBan5\tredTeamWin\n```\n\nThe ban and pick labels are flipped for both teams.\n",
      "metadata": {
        "id": "kJlZ08SovLDW",
        "cell_id": "00004-593318fb-9bba-4492-9237-0ae708dd7e5e",
        "deepnote_cell_type": "markdown"
      }
    },
    {
      "cell_type": "code",
      "metadata": {
        "id": "gGKPJuwE828C",
        "cell_id": "00003-f6e84c3c-c161-44d4-9913-623cc53ff9c2",
        "deepnote_cell_type": "code"
      },
      "source": "# combine the files by elo and put them to combined/\nimport pandas as pd\n\nelos = [\n    'IRON',\n    'BRONZE',\n    'SILVER',\n    'GOLD',\n    'PLATINUM',\n    'DIAMOND',\n]\n\nrename_dict = {\n    \"RedBan1\": \"RedTop\",\n    \"RedBan2\": \"RedJg\",\n    \"RedBan3\": \"RedMid\",\n    \"RedBan4\": \"RedAdc\",\n    \"RedBan5\": \"RedSup\",\n    'RedAdc': 'RedBan4',\n    'RedJg': 'RedBan2',\n    'RedMid': 'RedBan3',\n    'RedSup': 'RedBan5',\n    'RedTop': 'RedBan1',\n    \"BlueBan1\": \"BlueTop\",\n    \"BlueBan2\": \"BlueJg\",\n    \"BlueBan3\": \"BlueMid\",\n    \"BlueBan4\": \"BlueAdc\",\n    \"BlueBan5\": \"BlueSup\",\n    \"BlueAdc\": \"BlueBan4\",\n    \"BlueJg\": \"BlueBan2\",\n    \"BlueMid\": \"BlueBan3\",\n    \"BlueSup\": \"BlueBan5\",\n    \"BlueTop\": \"BlueBan1\"\n}\n\ncombined_path = \"combined/\"\n\nif not os.path.exists(combined_path):\n    os.mkdir(combined_path)\n\nif not os.path.exists('crunched_data'):\n    os.mkdir('crunched_data')\n\nfor elo in elos:\n    files = [pd.read_csv(elo+\"/\"+i) for i in os.listdir(elo)]\n    df = pd.concat(files)\n    df.rename(columns=rename_dict, inplace=True)\n    df.to_csv(combined_path+elo+\".csv\", index=False)",
      "execution_count": null,
      "outputs": []
    },
    {
      "cell_type": "markdown",
      "source": "<a style='text-decoration:none;line-height:16px;display:flex;color:#5B5B62;padding:10px;justify-content:end;' href='https://deepnote.com?utm_source=created-in-deepnote-cell&projectId=939b35d5-0867-4fd3-83c2-58e7fdcd481f' target=\"_blank\">\n<img alt='Created in deepnote.com' style='display:inline;max-height:16px;margin:0px;margin-right:7.5px;' src='data:image/svg+xml;base64,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' > </img>\nCreated in <span style='font-weight:600;margin-left:4px;'>Deepnote</span></a>",
      "metadata": {
        "tags": [],
        "created_in_deepnote_cell": true,
        "deepnote_cell_type": "markdown"
      }
    }
  ],
  "nbformat": 4,
  "nbformat_minor": 0,
  "metadata": {
    "colab": {
      "name": "pre_process_data_analytics_dogebot.ipynb",
      "provenance": [],
      "collapsed_sections": [],
      "toc_visible": true
    },
    "kernelspec": {
      "name": "python3",
      "display_name": "Python 3"
    },
    "deepnote_notebook_id": "c6332441-cb93-4e53-9fa1-2829d201b2fd",
    "deepnote": {},
    "deepnote_execution_queue": []
  }
}